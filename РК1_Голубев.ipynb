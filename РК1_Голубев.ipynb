{
  "cells": [
    {
      "cell_type": "markdown",
      "metadata": {
        "id": "rgMsbXwQQp0G"
      },
      "source": [
        "##ИУ5-24М Голубев Сергей"
      ]
    },
    {
      "cell_type": "markdown",
      "metadata": {
        "id": "_ijRHIP4Qy9d"
      },
      "source": [
        "###Вариант 5\n",
        "**Номер задачи №1 - 5.** (Для набора данных проведите кодирование одного (произвольного) категориального признака с использованием метода \"one-hot encoding\".)\n",
        "\n",
        "**Номер задачи №2 - 25.** (Для набора данных для одного (произвольного) числового признака проведите обнаружение и удаление выбросов на основе межквартильного размаха.)"
      ]
    },
    {
      "cell_type": "markdown",
      "metadata": {
        "id": "f9HCp2dpoeGP"
      },
      "source": [
        "##Задача 1"
      ]
    },
    {
      "cell_type": "code",
      "execution_count": 2,
      "metadata": {
        "colab": {
          "base_uri": "https://localhost:8080/"
        },
        "id": "pYOk3luejwZR",
        "outputId": "7557f0f0-2687-4d3e-ef68-44cddbca8ab6"
      },
      "outputs": [
        {
          "output_type": "stream",
          "name": "stdout",
          "text": [
            "Collecting category_encoders\n",
            "  Downloading category_encoders-2.6.3-py2.py3-none-any.whl (81 kB)\n",
            "\u001b[2K     \u001b[90m━━━━━━━━━━━━━━━━━━━━━━━━━━━━━━━━━━━━━━━━\u001b[0m \u001b[32m81.9/81.9 kB\u001b[0m \u001b[31m1.2 MB/s\u001b[0m eta \u001b[36m0:00:00\u001b[0m\n",
            "\u001b[?25hRequirement already satisfied: numpy>=1.14.0 in /usr/local/lib/python3.10/dist-packages (from category_encoders) (1.25.2)\n",
            "Requirement already satisfied: scikit-learn>=0.20.0 in /usr/local/lib/python3.10/dist-packages (from category_encoders) (1.2.2)\n",
            "Requirement already satisfied: scipy>=1.0.0 in /usr/local/lib/python3.10/dist-packages (from category_encoders) (1.11.4)\n",
            "Requirement already satisfied: statsmodels>=0.9.0 in /usr/local/lib/python3.10/dist-packages (from category_encoders) (0.14.2)\n",
            "Requirement already satisfied: pandas>=1.0.5 in /usr/local/lib/python3.10/dist-packages (from category_encoders) (2.0.3)\n",
            "Requirement already satisfied: patsy>=0.5.1 in /usr/local/lib/python3.10/dist-packages (from category_encoders) (0.5.6)\n",
            "Requirement already satisfied: python-dateutil>=2.8.2 in /usr/local/lib/python3.10/dist-packages (from pandas>=1.0.5->category_encoders) (2.8.2)\n",
            "Requirement already satisfied: pytz>=2020.1 in /usr/local/lib/python3.10/dist-packages (from pandas>=1.0.5->category_encoders) (2023.4)\n",
            "Requirement already satisfied: tzdata>=2022.1 in /usr/local/lib/python3.10/dist-packages (from pandas>=1.0.5->category_encoders) (2024.1)\n",
            "Requirement already satisfied: six in /usr/local/lib/python3.10/dist-packages (from patsy>=0.5.1->category_encoders) (1.16.0)\n",
            "Requirement already satisfied: joblib>=1.1.1 in /usr/local/lib/python3.10/dist-packages (from scikit-learn>=0.20.0->category_encoders) (1.4.2)\n",
            "Requirement already satisfied: threadpoolctl>=2.0.0 in /usr/local/lib/python3.10/dist-packages (from scikit-learn>=0.20.0->category_encoders) (3.5.0)\n",
            "Requirement already satisfied: packaging>=21.3 in /usr/local/lib/python3.10/dist-packages (from statsmodels>=0.9.0->category_encoders) (24.0)\n",
            "Installing collected packages: category_encoders\n",
            "Successfully installed category_encoders-2.6.3\n"
          ]
        }
      ],
      "source": [
        "!pip install category_encoders\n",
        "from category_encoders.count import CountEncoder as ce_CountEncoder\n",
        "import numpy as np\n",
        "import pandas as pd\n",
        "import matplotlib.pyplot as plt\n",
        "from sklearn.preprocessing import RobustScaler"
      ]
    },
    {
      "cell_type": "code",
      "execution_count": 3,
      "metadata": {
        "id": "pAOyuyiPj3iB"
      },
      "outputs": [],
      "source": [
        "df=pd.read_csv('data.csv')"
      ]
    },
    {
      "cell_type": "code",
      "execution_count": 3,
      "metadata": {
        "colab": {
          "base_uri": "https://localhost:8080/",
          "height": 206
        },
        "id": "yqGBbhlImkIV",
        "outputId": "117c0f83-82f7-4d7c-df39-579bbd741224"
      },
      "outputs": [
        {
          "output_type": "execute_result",
          "data": {
            "text/plain": [
              "         Date   Open   High    Low  Close   Adj Close  Volume\n",
              "0  2012-01-04  895.0  908.0  870.0  875.0  678.447571   70300\n",
              "1  2012-01-05  875.0  881.0  863.0  878.0  680.773499   46300\n",
              "2  2012-01-06  870.0  877.0  855.0  870.0  674.570618   28800\n",
              "3  2012-01-10  871.0  893.0  871.0  884.0  685.425781   65600\n",
              "4  2012-01-11  884.0  930.0  879.0  928.0  719.541809  131100"
            ],
            "text/html": [
              "\n",
              "  <div id=\"df-b3b7a9f5-9c3e-401a-a619-4df340e3cf99\" class=\"colab-df-container\">\n",
              "    <div>\n",
              "<style scoped>\n",
              "    .dataframe tbody tr th:only-of-type {\n",
              "        vertical-align: middle;\n",
              "    }\n",
              "\n",
              "    .dataframe tbody tr th {\n",
              "        vertical-align: top;\n",
              "    }\n",
              "\n",
              "    .dataframe thead th {\n",
              "        text-align: right;\n",
              "    }\n",
              "</style>\n",
              "<table border=\"1\" class=\"dataframe\">\n",
              "  <thead>\n",
              "    <tr style=\"text-align: right;\">\n",
              "      <th></th>\n",
              "      <th>Date</th>\n",
              "      <th>Open</th>\n",
              "      <th>High</th>\n",
              "      <th>Low</th>\n",
              "      <th>Close</th>\n",
              "      <th>Adj Close</th>\n",
              "      <th>Volume</th>\n",
              "    </tr>\n",
              "  </thead>\n",
              "  <tbody>\n",
              "    <tr>\n",
              "      <th>0</th>\n",
              "      <td>2012-01-04</td>\n",
              "      <td>895.0</td>\n",
              "      <td>908.0</td>\n",
              "      <td>870.0</td>\n",
              "      <td>875.0</td>\n",
              "      <td>678.447571</td>\n",
              "      <td>70300</td>\n",
              "    </tr>\n",
              "    <tr>\n",
              "      <th>1</th>\n",
              "      <td>2012-01-05</td>\n",
              "      <td>875.0</td>\n",
              "      <td>881.0</td>\n",
              "      <td>863.0</td>\n",
              "      <td>878.0</td>\n",
              "      <td>680.773499</td>\n",
              "      <td>46300</td>\n",
              "    </tr>\n",
              "    <tr>\n",
              "      <th>2</th>\n",
              "      <td>2012-01-06</td>\n",
              "      <td>870.0</td>\n",
              "      <td>877.0</td>\n",
              "      <td>855.0</td>\n",
              "      <td>870.0</td>\n",
              "      <td>674.570618</td>\n",
              "      <td>28800</td>\n",
              "    </tr>\n",
              "    <tr>\n",
              "      <th>3</th>\n",
              "      <td>2012-01-10</td>\n",
              "      <td>871.0</td>\n",
              "      <td>893.0</td>\n",
              "      <td>871.0</td>\n",
              "      <td>884.0</td>\n",
              "      <td>685.425781</td>\n",
              "      <td>65600</td>\n",
              "    </tr>\n",
              "    <tr>\n",
              "      <th>4</th>\n",
              "      <td>2012-01-11</td>\n",
              "      <td>884.0</td>\n",
              "      <td>930.0</td>\n",
              "      <td>879.0</td>\n",
              "      <td>928.0</td>\n",
              "      <td>719.541809</td>\n",
              "      <td>131100</td>\n",
              "    </tr>\n",
              "  </tbody>\n",
              "</table>\n",
              "</div>\n",
              "    <div class=\"colab-df-buttons\">\n",
              "\n",
              "  <div class=\"colab-df-container\">\n",
              "    <button class=\"colab-df-convert\" onclick=\"convertToInteractive('df-b3b7a9f5-9c3e-401a-a619-4df340e3cf99')\"\n",
              "            title=\"Convert this dataframe to an interactive table.\"\n",
              "            style=\"display:none;\">\n",
              "\n",
              "  <svg xmlns=\"http://www.w3.org/2000/svg\" height=\"24px\" viewBox=\"0 -960 960 960\">\n",
              "    <path d=\"M120-120v-720h720v720H120Zm60-500h600v-160H180v160Zm220 220h160v-160H400v160Zm0 220h160v-160H400v160ZM180-400h160v-160H180v160Zm440 0h160v-160H620v160ZM180-180h160v-160H180v160Zm440 0h160v-160H620v160Z\"/>\n",
              "  </svg>\n",
              "    </button>\n",
              "\n",
              "  <style>\n",
              "    .colab-df-container {\n",
              "      display:flex;\n",
              "      gap: 12px;\n",
              "    }\n",
              "\n",
              "    .colab-df-convert {\n",
              "      background-color: #E8F0FE;\n",
              "      border: none;\n",
              "      border-radius: 50%;\n",
              "      cursor: pointer;\n",
              "      display: none;\n",
              "      fill: #1967D2;\n",
              "      height: 32px;\n",
              "      padding: 0 0 0 0;\n",
              "      width: 32px;\n",
              "    }\n",
              "\n",
              "    .colab-df-convert:hover {\n",
              "      background-color: #E2EBFA;\n",
              "      box-shadow: 0px 1px 2px rgba(60, 64, 67, 0.3), 0px 1px 3px 1px rgba(60, 64, 67, 0.15);\n",
              "      fill: #174EA6;\n",
              "    }\n",
              "\n",
              "    .colab-df-buttons div {\n",
              "      margin-bottom: 4px;\n",
              "    }\n",
              "\n",
              "    [theme=dark] .colab-df-convert {\n",
              "      background-color: #3B4455;\n",
              "      fill: #D2E3FC;\n",
              "    }\n",
              "\n",
              "    [theme=dark] .colab-df-convert:hover {\n",
              "      background-color: #434B5C;\n",
              "      box-shadow: 0px 1px 3px 1px rgba(0, 0, 0, 0.15);\n",
              "      filter: drop-shadow(0px 1px 2px rgba(0, 0, 0, 0.3));\n",
              "      fill: #FFFFFF;\n",
              "    }\n",
              "  </style>\n",
              "\n",
              "    <script>\n",
              "      const buttonEl =\n",
              "        document.querySelector('#df-b3b7a9f5-9c3e-401a-a619-4df340e3cf99 button.colab-df-convert');\n",
              "      buttonEl.style.display =\n",
              "        google.colab.kernel.accessAllowed ? 'block' : 'none';\n",
              "\n",
              "      async function convertToInteractive(key) {\n",
              "        const element = document.querySelector('#df-b3b7a9f5-9c3e-401a-a619-4df340e3cf99');\n",
              "        const dataTable =\n",
              "          await google.colab.kernel.invokeFunction('convertToInteractive',\n",
              "                                                    [key], {});\n",
              "        if (!dataTable) return;\n",
              "\n",
              "        const docLinkHtml = 'Like what you see? Visit the ' +\n",
              "          '<a target=\"_blank\" href=https://colab.research.google.com/notebooks/data_table.ipynb>data table notebook</a>'\n",
              "          + ' to learn more about interactive tables.';\n",
              "        element.innerHTML = '';\n",
              "        dataTable['output_type'] = 'display_data';\n",
              "        await google.colab.output.renderOutput(dataTable, element);\n",
              "        const docLink = document.createElement('div');\n",
              "        docLink.innerHTML = docLinkHtml;\n",
              "        element.appendChild(docLink);\n",
              "      }\n",
              "    </script>\n",
              "  </div>\n",
              "\n",
              "\n",
              "<div id=\"df-70594626-8cf8-43f6-96cf-4e36932f3f03\">\n",
              "  <button class=\"colab-df-quickchart\" onclick=\"quickchart('df-70594626-8cf8-43f6-96cf-4e36932f3f03')\"\n",
              "            title=\"Suggest charts\"\n",
              "            style=\"display:none;\">\n",
              "\n",
              "<svg xmlns=\"http://www.w3.org/2000/svg\" height=\"24px\"viewBox=\"0 0 24 24\"\n",
              "     width=\"24px\">\n",
              "    <g>\n",
              "        <path d=\"M19 3H5c-1.1 0-2 .9-2 2v14c0 1.1.9 2 2 2h14c1.1 0 2-.9 2-2V5c0-1.1-.9-2-2-2zM9 17H7v-7h2v7zm4 0h-2V7h2v10zm4 0h-2v-4h2v4z\"/>\n",
              "    </g>\n",
              "</svg>\n",
              "  </button>\n",
              "\n",
              "<style>\n",
              "  .colab-df-quickchart {\n",
              "      --bg-color: #E8F0FE;\n",
              "      --fill-color: #1967D2;\n",
              "      --hover-bg-color: #E2EBFA;\n",
              "      --hover-fill-color: #174EA6;\n",
              "      --disabled-fill-color: #AAA;\n",
              "      --disabled-bg-color: #DDD;\n",
              "  }\n",
              "\n",
              "  [theme=dark] .colab-df-quickchart {\n",
              "      --bg-color: #3B4455;\n",
              "      --fill-color: #D2E3FC;\n",
              "      --hover-bg-color: #434B5C;\n",
              "      --hover-fill-color: #FFFFFF;\n",
              "      --disabled-bg-color: #3B4455;\n",
              "      --disabled-fill-color: #666;\n",
              "  }\n",
              "\n",
              "  .colab-df-quickchart {\n",
              "    background-color: var(--bg-color);\n",
              "    border: none;\n",
              "    border-radius: 50%;\n",
              "    cursor: pointer;\n",
              "    display: none;\n",
              "    fill: var(--fill-color);\n",
              "    height: 32px;\n",
              "    padding: 0;\n",
              "    width: 32px;\n",
              "  }\n",
              "\n",
              "  .colab-df-quickchart:hover {\n",
              "    background-color: var(--hover-bg-color);\n",
              "    box-shadow: 0 1px 2px rgba(60, 64, 67, 0.3), 0 1px 3px 1px rgba(60, 64, 67, 0.15);\n",
              "    fill: var(--button-hover-fill-color);\n",
              "  }\n",
              "\n",
              "  .colab-df-quickchart-complete:disabled,\n",
              "  .colab-df-quickchart-complete:disabled:hover {\n",
              "    background-color: var(--disabled-bg-color);\n",
              "    fill: var(--disabled-fill-color);\n",
              "    box-shadow: none;\n",
              "  }\n",
              "\n",
              "  .colab-df-spinner {\n",
              "    border: 2px solid var(--fill-color);\n",
              "    border-color: transparent;\n",
              "    border-bottom-color: var(--fill-color);\n",
              "    animation:\n",
              "      spin 1s steps(1) infinite;\n",
              "  }\n",
              "\n",
              "  @keyframes spin {\n",
              "    0% {\n",
              "      border-color: transparent;\n",
              "      border-bottom-color: var(--fill-color);\n",
              "      border-left-color: var(--fill-color);\n",
              "    }\n",
              "    20% {\n",
              "      border-color: transparent;\n",
              "      border-left-color: var(--fill-color);\n",
              "      border-top-color: var(--fill-color);\n",
              "    }\n",
              "    30% {\n",
              "      border-color: transparent;\n",
              "      border-left-color: var(--fill-color);\n",
              "      border-top-color: var(--fill-color);\n",
              "      border-right-color: var(--fill-color);\n",
              "    }\n",
              "    40% {\n",
              "      border-color: transparent;\n",
              "      border-right-color: var(--fill-color);\n",
              "      border-top-color: var(--fill-color);\n",
              "    }\n",
              "    60% {\n",
              "      border-color: transparent;\n",
              "      border-right-color: var(--fill-color);\n",
              "    }\n",
              "    80% {\n",
              "      border-color: transparent;\n",
              "      border-right-color: var(--fill-color);\n",
              "      border-bottom-color: var(--fill-color);\n",
              "    }\n",
              "    90% {\n",
              "      border-color: transparent;\n",
              "      border-bottom-color: var(--fill-color);\n",
              "    }\n",
              "  }\n",
              "</style>\n",
              "\n",
              "  <script>\n",
              "    async function quickchart(key) {\n",
              "      const quickchartButtonEl =\n",
              "        document.querySelector('#' + key + ' button');\n",
              "      quickchartButtonEl.disabled = true;  // To prevent multiple clicks.\n",
              "      quickchartButtonEl.classList.add('colab-df-spinner');\n",
              "      try {\n",
              "        const charts = await google.colab.kernel.invokeFunction(\n",
              "            'suggestCharts', [key], {});\n",
              "      } catch (error) {\n",
              "        console.error('Error during call to suggestCharts:', error);\n",
              "      }\n",
              "      quickchartButtonEl.classList.remove('colab-df-spinner');\n",
              "      quickchartButtonEl.classList.add('colab-df-quickchart-complete');\n",
              "    }\n",
              "    (() => {\n",
              "      let quickchartButtonEl =\n",
              "        document.querySelector('#df-70594626-8cf8-43f6-96cf-4e36932f3f03 button');\n",
              "      quickchartButtonEl.style.display =\n",
              "        google.colab.kernel.accessAllowed ? 'block' : 'none';\n",
              "    })();\n",
              "  </script>\n",
              "</div>\n",
              "    </div>\n",
              "  </div>\n"
            ],
            "application/vnd.google.colaboratory.intrinsic+json": {
              "type": "dataframe",
              "variable_name": "df",
              "summary": "{\n  \"name\": \"df\",\n  \"rows\": 3052,\n  \"fields\": [\n    {\n      \"column\": \"Date\",\n      \"properties\": {\n        \"dtype\": \"object\",\n        \"num_unique_values\": 3052,\n        \"samples\": [\n          \"2013-02-06\",\n          \"2014-03-20\",\n          \"2017-01-24\"\n        ],\n        \"semantic_type\": \"\",\n        \"description\": \"\"\n      }\n    },\n    {\n      \"column\": \"Open\",\n      \"properties\": {\n        \"dtype\": \"number\",\n        \"std\": 391.5468007815113,\n        \"min\": 759.0,\n        \"max\": 2800.0,\n        \"num_unique_values\": 1242,\n        \"samples\": [\n          1950.0,\n          1873.0,\n          1279.0\n        ],\n        \"semantic_type\": \"\",\n        \"description\": \"\"\n      }\n    },\n    {\n      \"column\": \"High\",\n      \"properties\": {\n        \"dtype\": \"number\",\n        \"std\": 396.64398708597497,\n        \"min\": 767.0,\n        \"max\": 2845.0,\n        \"num_unique_values\": 1286,\n        \"samples\": [\n          2382.0,\n          1620.0,\n          2164.0\n        ],\n        \"semantic_type\": \"\",\n        \"description\": \"\"\n      }\n    },\n    {\n      \"column\": \"Low\",\n      \"properties\": {\n        \"dtype\": \"number\",\n        \"std\": 386.9505593694903,\n        \"min\": 743.0,\n        \"max\": 2785.0,\n        \"num_unique_values\": 1261,\n        \"samples\": [\n          1635.0,\n          1674.0,\n          2031.0\n        ],\n        \"semantic_type\": \"\",\n        \"description\": \"\"\n      }\n    },\n    {\n      \"column\": \"Close\",\n      \"properties\": {\n        \"dtype\": \"number\",\n        \"std\": 391.82980169179194,\n        \"min\": 763.0,\n        \"max\": 2817.0,\n        \"num_unique_values\": 1266,\n        \"samples\": [\n          2030.0,\n          2202.0,\n          1794.0\n        ],\n        \"semantic_type\": \"\",\n        \"description\": \"\"\n      }\n    },\n    {\n      \"column\": \"Adj Close\",\n      \"properties\": {\n        \"dtype\": \"number\",\n        \"std\": 425.8081668462024,\n        \"min\": 591.606079,\n        \"max\": 2771.138672,\n        \"num_unique_values\": 2419,\n        \"samples\": [\n          1381.790649,\n          825.811157,\n          1108.578491\n        ],\n        \"semantic_type\": \"\",\n        \"description\": \"\"\n      }\n    },\n    {\n      \"column\": \"Volume\",\n      \"properties\": {\n        \"dtype\": \"number\",\n        \"std\": 63432,\n        \"min\": 0,\n        \"max\": 1751800,\n        \"num_unique_values\": 1157,\n        \"samples\": [\n          142300,\n          193100,\n          20400\n        ],\n        \"semantic_type\": \"\",\n        \"description\": \"\"\n      }\n    }\n  ]\n}"
            }
          },
          "metadata": {},
          "execution_count": 3
        }
      ],
      "source": [
        "df.head()"
      ]
    },
    {
      "cell_type": "code",
      "execution_count": 4,
      "metadata": {
        "colab": {
          "base_uri": "https://localhost:8080/"
        },
        "id": "xTUVZcExSryf",
        "outputId": "abd14740-6a5e-49d1-827d-568864108cc1"
      },
      "outputs": [
        {
          "output_type": "execute_result",
          "data": {
            "text/plain": [
              "Volume\n",
              "0         24\n",
              "27700     12\n",
              "38900     12\n",
              "66200     11\n",
              "27900     10\n",
              "          ..\n",
              "173100     1\n",
              "150300     1\n",
              "37900      1\n",
              "120400     1\n",
              "227000     1\n",
              "Name: count, Length: 1157, dtype: int64"
            ]
          },
          "metadata": {},
          "execution_count": 4
        }
      ],
      "source": [
        "df['Volume'].value_counts()"
      ]
    },
    {
      "cell_type": "code",
      "execution_count": 5,
      "metadata": {
        "id": "NGLOKaI-TXuU"
      },
      "outputs": [],
      "source": [
        "df_encoded = pd.get_dummies(df, columns=['Volume'])"
      ]
    },
    {
      "cell_type": "code",
      "source": [
        "print(df_encoded)"
      ],
      "metadata": {
        "colab": {
          "base_uri": "https://localhost:8080/"
        },
        "id": "D0wHiwZHZx8M",
        "outputId": "c971d8eb-65c5-4ff6-d52a-5d8778303c40"
      },
      "execution_count": 6,
      "outputs": [
        {
          "output_type": "stream",
          "name": "stdout",
          "text": [
            "            Date    Open    High     Low   Close    Adj Close  Volume_0  \\\n",
            "0     2012-01-04   895.0   908.0   870.0   875.0   678.447571     False   \n",
            "1     2012-01-05   875.0   881.0   863.0   878.0   680.773499     False   \n",
            "2     2012-01-06   870.0   877.0   855.0   870.0   674.570618     False   \n",
            "3     2012-01-10   871.0   893.0   871.0   884.0   685.425781     False   \n",
            "4     2012-01-11   884.0   930.0   879.0   928.0   719.541809     False   \n",
            "...          ...     ...     ...     ...     ...          ...       ...   \n",
            "3047  2024-05-17  2500.0  2545.0  2480.0  2545.0  2545.000000     False   \n",
            "3048  2024-05-20  2545.0  2604.0  2545.0  2572.0  2572.000000     False   \n",
            "3049  2024-05-21  2572.0  2581.0  2507.0  2514.0  2514.000000     False   \n",
            "3050  2024-05-22  2524.0  2551.0  2520.0  2539.0  2539.000000     False   \n",
            "3051  2024-05-23  2552.0  2566.0  2525.0  2558.0  2558.000000     False   \n",
            "\n",
            "      Volume_4200  Volume_5100  Volume_5600  ...  Volume_410400  \\\n",
            "0           False        False        False  ...          False   \n",
            "1           False        False        False  ...          False   \n",
            "2           False        False        False  ...          False   \n",
            "3           False        False        False  ...          False   \n",
            "4           False        False        False  ...          False   \n",
            "...           ...          ...          ...  ...            ...   \n",
            "3047        False        False        False  ...          False   \n",
            "3048        False        False        False  ...          False   \n",
            "3049        False        False        False  ...          False   \n",
            "3050        False        False        False  ...          False   \n",
            "3051        False        False        False  ...          False   \n",
            "\n",
            "      Volume_415300  Volume_421400  Volume_451600  Volume_466200  \\\n",
            "0             False          False          False          False   \n",
            "1             False          False          False          False   \n",
            "2             False          False          False          False   \n",
            "3             False          False          False          False   \n",
            "4             False          False          False          False   \n",
            "...             ...            ...            ...            ...   \n",
            "3047          False          False          False          False   \n",
            "3048          False          False          False          False   \n",
            "3049          False          False          False          False   \n",
            "3050          False          False          False          False   \n",
            "3051          False          False          False          False   \n",
            "\n",
            "      Volume_531000  Volume_802200  Volume_869700  Volume_1273700  \\\n",
            "0             False          False          False           False   \n",
            "1             False          False          False           False   \n",
            "2             False          False          False           False   \n",
            "3             False          False          False           False   \n",
            "4             False          False          False           False   \n",
            "...             ...            ...            ...             ...   \n",
            "3047          False          False          False           False   \n",
            "3048          False          False          False           False   \n",
            "3049          False          False          False           False   \n",
            "3050          False          False          False           False   \n",
            "3051          False          False          False           False   \n",
            "\n",
            "      Volume_1751800  \n",
            "0              False  \n",
            "1              False  \n",
            "2              False  \n",
            "3              False  \n",
            "4              False  \n",
            "...              ...  \n",
            "3047           False  \n",
            "3048           False  \n",
            "3049           False  \n",
            "3050           False  \n",
            "3051           False  \n",
            "\n",
            "[3052 rows x 1163 columns]\n"
          ]
        }
      ]
    },
    {
      "cell_type": "markdown",
      "metadata": {
        "id": "Q_F2i_2lyFjo"
      },
      "source": [
        "##Задача 2"
      ]
    },
    {
      "cell_type": "code",
      "source": [
        "volume = df['Volume']\n",
        "Q1 = volume.quantile(0.25)\n",
        "Q3 = volume.quantile(0.75)\n",
        "IQR = Q3 - Q1\n",
        "lower_bound = Q1 - 1.5 * IQR\n",
        "upper_bound = Q3 + 1.5 * IQR\n",
        "df_filtered = df[(volume >= lower_bound) & (volume <= upper_bound)]\n",
        "\n",
        "# Выводим результат\n",
        "print(\"\\nНабор данных после удаления выбросов:\")\n",
        "print(df_filtered)"
      ],
      "metadata": {
        "colab": {
          "base_uri": "https://localhost:8080/"
        },
        "id": "2t4XhXguaFNq",
        "outputId": "06f1390e-940b-4510-fbee-9341caf61ad1"
      },
      "execution_count": 11,
      "outputs": [
        {
          "output_type": "stream",
          "name": "stdout",
          "text": [
            "\n",
            "Набор данных после удаления выбросов:\n",
            "            Date    Open    High     Low   Close    Adj Close  Volume\n",
            "0     2012-01-04   895.0   908.0   870.0   875.0   678.447571   70300\n",
            "1     2012-01-05   875.0   881.0   863.0   878.0   680.773499   46300\n",
            "2     2012-01-06   870.0   877.0   855.0   870.0   674.570618   28800\n",
            "3     2012-01-10   871.0   893.0   871.0   884.0   685.425781   65600\n",
            "4     2012-01-11   884.0   930.0   879.0   928.0   719.541809  131100\n",
            "...          ...     ...     ...     ...     ...          ...     ...\n",
            "3047  2024-05-17  2500.0  2545.0  2480.0  2545.0  2545.000000   23600\n",
            "3048  2024-05-20  2545.0  2604.0  2545.0  2572.0  2572.000000   27900\n",
            "3049  2024-05-21  2572.0  2581.0  2507.0  2514.0  2514.000000   23700\n",
            "3050  2024-05-22  2524.0  2551.0  2520.0  2539.0  2539.000000   17800\n",
            "3051  2024-05-23  2552.0  2566.0  2525.0  2558.0  2558.000000   24400\n",
            "\n",
            "[2878 rows x 7 columns]\n"
          ]
        }
      ]
    }
  ],
  "metadata": {
    "colab": {
      "provenance": []
    },
    "kernelspec": {
      "display_name": "Python 3",
      "name": "python3"
    },
    "language_info": {
      "name": "python",
      "version": "3.10.2"
    }
  },
  "nbformat": 4,
  "nbformat_minor": 0
}